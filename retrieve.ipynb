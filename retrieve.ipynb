{
 "cells": [
  {
   "cell_type": "code",
   "execution_count": 1,
   "id": "d66c912b-0152-4226-b61d-a806b1cac8de",
   "metadata": {},
   "outputs": [
    {
     "name": "stderr",
     "output_type": "stream",
     "text": [
      "/usr/local/lib/python3.8/dist-packages/tqdm/auto.py:21: TqdmWarning: IProgress not found. Please update jupyter and ipywidgets. See https://ipywidgets.readthedocs.io/en/stable/user_install.html\n",
      "  from .autonotebook import tqdm as notebook_tqdm\n",
      "100%|████████████████████████████████████████████████████████████████████████████████████████████████| 10000/10000 [00:01<00:00, 6773.82it/s]\n"
     ]
    }
   ],
   "source": [
    "import pandas as pd \n",
    "from datasets import load_dataset\n",
    "from underthesea import sent_tokenize\n",
    "import os\n",
    "from tqdm import tqdm\n",
    "\n",
    "def split_text_into_chunks(text, chunk_size=512):\n",
    "    sentences = sent_tokenize(text)\n",
    "    # sentences = text.split(\"\\n\")\n",
    "\n",
    "    chunks = [sentences[0]]\n",
    "    for string in sentences[1:]:\n",
    "        current_length = len(chunks[-1].split())\n",
    "        if current_length + len(string.split()) > chunk_size:\n",
    "            chunks.append(string)\n",
    "        else:\n",
    "            chunks[-1] += \"\\n\" + string\n",
    "\n",
    "    # chunks = [tokenize(chunk) for chunk in chunks]\n",
    "    return chunks\n",
    "\n",
    "def split_text_into_chunks(text, chunk_size=100, window_size=50):\n",
    "    words = text.split()\n",
    "    num_words = len(words)\n",
    "    chunks = []\n",
    "    start_idx = 0\n",
    "\n",
    "    while True:\n",
    "        end_idx = start_idx + chunk_size\n",
    "        chunk = \" \".join(words[start_idx:end_idx])\n",
    "        chunks.append(chunk)\n",
    "        if end_idx >= num_words:\n",
    "            break\n",
    "        start_idx += window_size\n",
    "\n",
    "    return chunks\n",
    "\n",
    "corpus = []\n",
    "meta_corpus = []\n",
    "data_dir = \"data_raw10k/\"\n",
    "filenames = os.listdir(data_dir)\n",
    "filenames = sorted(filenames)\n",
    "\n",
    "_id = 0\n",
    "docs = {}\n",
    "for filename in tqdm(filenames):\n",
    "    filepath = data_dir + filename\n",
    "    title = filename.strip(\".txt\")\n",
    "    with open(filepath, \"r\") as f:\n",
    "        text = f.read()\n",
    "        docs[title] = text\n",
    "        text = text.lstrip(title).strip()\n",
    "        # chunks = split_text_into_chunks(text, chunk_size=150)\n",
    "        chunks = split_text_into_chunks(text, chunk_size=150, window_size=150)\n",
    "        chunks = [f\"Title: {title}\\n\\n{chunk}\" for chunk in chunks]\n",
    "        meta_chunks = [{\n",
    "            \"title\": title,\n",
    "            \"passage\": chunks[i],\n",
    "            \"id\": _id + i,\n",
    "            \"len\": len(chunks[i].split())\n",
    "        } for i in range(len(chunks))]\n",
    "        _id += len(chunks)\n",
    "        corpus.extend(chunks)\n",
    "        meta_corpus.extend(meta_chunks)"
   ]
  },
  {
   "cell_type": "code",
   "execution_count": 60,
   "id": "476c73a2-3235-489f-8e84-6a5a4c73dc06",
   "metadata": {},
   "outputs": [],
   "source": [
    "sorted_corpus = sorted(meta_corpus, key=lambda x: x[\"len\"])"
   ]
  },
  {
   "cell_type": "code",
   "execution_count": 2,
   "id": "08c36efd-3db3-40bc-b9cd-c2a403c747ef",
   "metadata": {},
   "outputs": [
    {
     "data": {
      "image/png": "[encoded data removed]",
      "text/plain": [
       "<Figure size 640x480 with 1 Axes>"
      ]
     },
     "metadata": {},
     "output_type": "display_data"
    }
   ],
   "source": [
    "import matplotlib.pyplot as plt\n",
    "\n",
    "def plot_histogram(data):\n",
    "    plt.hist(data, bins='auto', alpha=0.7, rwidth=0.85)\n",
    "    plt.grid(axis='y', alpha=0.5)\n",
    "    plt.xlabel('Value')\n",
    "    plt.ylabel('Frequency')\n",
    "    plt.title('Histogram')\n",
    "    plt.show()\n",
    "lens = [x[\"len\"] for x in meta_corpus]\n",
    "plot_histogram(lens)"
   ]
  },
  {
   "cell_type": "markdown",
   "id": "8acd9741-543c-47b3-afad-e0c6663244f3",
   "metadata": {},
   "source": [
    "## Retrieve"
   ]
  },
  {
   "cell_type": "code",
   "execution_count": 3,
   "id": "231ea8fa-19e0-471f-a14b-9d594ce14a79",
   "metadata": {},
   "outputs": [],
   "source": [
    "pipeline = \\\n",
    "\"\"\"\n",
    "1. query -- (keywords) --> AND & OR docs.\n",
    "2. if AND docs exist, select. if not, go for OR docs. else, go for all.\n",
    "   => chunking selected docs to passages --> corpus\n",
    "3. retrieve from corpus. First BM25 get top 200, \n",
    "   then rerank using i) keywords matching score and ii) embedding.\n",
    "   => get top 3. \n",
    "4. expand contexts\n",
    "5. prompt -> generate.\n",
    "\"\"\" "
   ]
  },
  {
   "cell_type": "markdown",
   "id": "43e35f48-5a2c-4a99-9446-ecc2f2870051",
   "metadata": {},
   "source": [
    "## Step 1"
   ]
  },
  {
   "cell_type": "code",
   "execution_count": 4,
   "id": "e4697d19-01bc-4194-8f87-f653081fe2dd",
   "metadata": {},
   "outputs": [],
   "source": [
    "important_keywords = load_dataset(\"json\", data_files=\"important_keywords_4.jsonl\", split=\"train\").to_list()"
   ]
  },
  {
   "cell_type": "code",
   "execution_count": 22,
   "id": "744bdc14-8730-43a4-b825-b5e4c9bc19c9",
   "metadata": {},
   "outputs": [],
   "source": [
    "import unicodedata as ud\n",
    "import re\n",
    "\n",
    "def delete_leading_number(string):\n",
    "    pattern = r\"^\\d+\"  # Regular expression pattern to match the desired patterns\n",
    "    return re.sub(pattern, \"\", string)\n",
    "    \n",
    "def parse_keywords(example):\n",
    "    question = example[\"question\"]\n",
    "    key_string = example[\"key_string\"]\n",
    "    keywords = []\n",
    "    terms = key_string.split(\"\\n\")\n",
    "    terms = [j.strip() for i in terms for j in i.split(\",\")]\n",
    "\n",
    "    ## normalize\n",
    "    question = ud.normalize(\"NFC\", question).lower()\n",
    "    terms = [ud.normalize(\"NFC\", term).lower() for term in terms]\n",
    "    for term in terms:\n",
    "        term = term.strip('\"').strip(\"'\")\n",
    "        term = delete_leading_number(term)\n",
    "        \n",
    "    ## filter \n",
    "    terms = [term for term in terms if (term.strip() and term in question)]\n",
    "    terms = list(set(terms))\n",
    "    return terms"
   ]
  },
  {
   "cell_type": "code",
   "execution_count": 23,
   "id": "3e91e3ae-c431-45a8-840d-ce3def335e50",
   "metadata": {},
   "outputs": [
    {
     "name": "stderr",
     "output_type": "stream",
     "text": [
      "100%|██████████████████████████████████████████████████████████████████████████████████████████████████████| 200/200 [00:11<00:00, 17.18it/s]\n"
     ]
    }
   ],
   "source": [
    "import copy\n",
    "import unicodedata as ud\n",
    "import re\n",
    "from tqdm import tqdm\n",
    "\n",
    "ldocs = copy.deepcopy(docs)\n",
    "ldocs = {title: ud.normalize(\"NFC\", copy.deepcopy(doc)).lower() \n",
    "         for title, doc in ldocs.items()}\n",
    "question_to_titles = copy.deepcopy(important_keywords)\n",
    "\n",
    "for example in tqdm(question_to_titles):\n",
    "    question = example[\"question\"]\n",
    "    keywords = parse_keywords(example)\n",
    "    AND_docs = []\n",
    "    OR_docs = []\n",
    "    for title, ldoc in ldocs.items():\n",
    "        if keywords and all(key in ldoc for key in keywords):\n",
    "            AND_docs.append(title)\n",
    "        if keywords and any(key in ldoc for key in keywords):\n",
    "            OR_docs.append(title)\n",
    "            \n",
    "    example[\"keywords\"] = keywords\n",
    "    example[\"AND_docs\"] = AND_docs\n",
    "    example[\"OR_docs\"] = OR_docs"
   ]
  },
  {
   "cell_type": "markdown",
   "id": "27b7e782-db16-4160-bc85-fab7d0976a80",
   "metadata": {},
   "source": [
    "## Step 2"
   ]
  },
  {
   "cell_type": "code",
   "execution_count": 37,
   "id": "1455b2e4-b6c5-4cad-8c47-650f74a9a77a",
   "metadata": {},
   "outputs": [
    {
     "name": "stderr",
     "output_type": "stream",
     "text": [
      "100%|██████████████████████████████████████████████████████████████████████████████████████████████████████| 200/200 [00:10<00:00, 18.91it/s]\n"
     ]
    }
   ],
   "source": [
    "for example in tqdm(question_to_titles):\n",
    "    selected_titles = \"ALL\"\n",
    "    if len(example[\"OR_docs\"]) > 0: \n",
    "        selected_titles = example[\"OR_docs\"]\n",
    "    if len(example[\"AND_docs\"]) > 0: \n",
    "        selected_titles = example[\"AND_docs\"]\n",
    "        \n",
    "    selected_passages_ids = [x[\"id\"] for x in meta_corpus]\n",
    "    if selected_titles != \"ALL\":\n",
    "        selected_passages_ids = \\\n",
    "            [x[\"id\"] for x in meta_corpus \n",
    "             if x[\"title\"] in selected_titles]\n",
    "    example[\"selected_passages_ids\"] = selected_passages_ids"
   ]
  },
  {
   "cell_type": "markdown",
   "id": "d9023f27-7ec8-4ec9-b73a-e0fda6402c55",
   "metadata": {},
   "source": [
    "## Step 3"
   ]
  },
  {
   "cell_type": "code",
   "execution_count": 200,
   "id": "6a049245-6d14-4294-9c80-b7905284b2af",
   "metadata": {},
   "outputs": [],
   "source": [
    "from rank_bm25 import BM25Okapi\n",
    "from tqdm import tqdm\n",
    "import string\n",
    "\n",
    "def get_keyword_score(passage, keywords):\n",
    "    keywords = [ud.normalize(\"NFC\", word).lower() for word in keywords]\n",
    "    passage = ud.normalize(\"NFC\", passage).lower()\n",
    "    matched_keywords = [word for word in keywords if word in passage]\n",
    "    \n",
    "    keywords_to_weights = {key: len(key) for key in keywords}\n",
    "    numer = sum([keywords_to_weights[key] for key in matched_keywords])\n",
    "    denom = sum(keywords_to_weights.values())\n",
    "    if denom != 0: score = float(numer/denom)\n",
    "    else: score = 0\n",
    "    return score\n",
    "\n",
    "def rerank_3_stages(passages, topk=5):\n",
    "    ## BM25\n",
    "    bm25_passages = sorted(selected_passages, key=lambda x: x[\"bm25_score\"], reverse=True)[:200]\n",
    "    max_bm25_score = bm25_passages[0][\"bm25_score\"]\n",
    "    min_bm25_score = bm25_passages[-1][\"bm25_score\"]\n",
    "    norm_bm25 = lambda x: (x - min_bm25_score + 0.1) / (max_bm25_score - min_bm25_score + 0.1)\n",
    "    ## keywords + semantic\n",
    "    for passage in bm25_passages:\n",
    "        passage[\"bm25_normed_score\"] = norm_bm25(passage[\"bm25_score\"])\n",
    "        passage[\"combined_score\"] = passage[\"bm25_normed_score\"] * 0.1 + \\\n",
    "                                    passage[\"keyword_score\"] * 0.4 + passage[\"semantic_score\"] * 0.5\n",
    "    sorted_passages = sorted(bm25_passages, key=lambda x: x[\"combined_score\"], reverse=True)\n",
    "    return sorted_passages[:topk]\n",
    "\n",
    "def split_text(text):\n",
    "    text = text.translate(str.maketrans('', '', string.punctuation))\n",
    "    words = text.lower().split()\n",
    "    words = [word for word in words if len(word.strip()) > 0]\n",
    "    return words"
   ]
  },
  {
   "cell_type": "code",
   "execution_count": 143,
   "id": "1ccccf75-be2c-4ce0-adee-f618150e3219",
   "metadata": {},
   "outputs": [
    {
     "name": "stderr",
     "output_type": "stream",
     "text": [
      "100%|███████████████████████████████████████████████████████████████████████████████████████████████| 48532/48532 [00:03<00:00, 13393.52it/s]\n"
     ]
    }
   ],
   "source": [
    "tokenized_corpus = [split_text(doc[\"passage\"]) for doc in tqdm(meta_corpus)]\n",
    "bm25 = BM25Okapi(tokenized_corpus)"
   ]
  },
  {
   "cell_type": "code",
   "execution_count": 144,
   "id": "ee58aecc-3ba8-4128-841d-c5301bb93b0b",
   "metadata": {},
   "outputs": [],
   "source": [
    "# import torch \n",
    "# corpus_embs = torch.load(\"data/corpus_embeddings_w150.pt\", map_location=torch.device('cpu'))\n",
    "# questions_embs = torch.load(\"data/private_questions_embeddings.pt\", map_location=torch.device('cpu'))\n",
    "# semantic_scores = questions_embs @ corpus_embs.T"
   ]
  },
  {
   "cell_type": "code",
   "execution_count": 194,
   "id": "825894d4-0688-464b-9de0-a882d07a4d20",
   "metadata": {},
   "outputs": [],
   "source": [
    "import pickle\n",
    "with open('data/corpus_embedding_w150.pkl', 'rb') as f:\n",
    "    corpus_embs = pickle.load(f)\n",
    "with open('data/private_questions_embeddings.pkl', 'rb') as f:\n",
    "    questions_embs = pickle.load(f)\n",
    "semantic_scores = questions_embs @ corpus_embs.T"
   ]
  },
  {
   "cell_type": "code",
   "execution_count": 181,
   "id": "37254373-7a3a-4f4f-b6ae-4389dc8d6172",
   "metadata": {},
   "outputs": [],
   "source": [
    "# max_idx = sematic_scores[-1].argmax()\n",
    "# example = question_to_titles[-1]\n",
    "# print(example[\"question\"])\n",
    "# print(corpus[max_idx])"
   ]
  },
  {
   "cell_type": "code",
   "execution_count": 201,
   "id": "463ed03c-fbe3-40b5-a0a4-ae63a333c88a",
   "metadata": {},
   "outputs": [
    {
     "name": "stderr",
     "output_type": "stream",
     "text": [
      "100%|██████████████████████████████████████████████████████████████████████████████████████████████████████| 200/200 [00:54<00:00,  3.65it/s]\n"
     ]
    }
   ],
   "source": [
    "from copy import deepcopy\n",
    "for i in tqdm(range(len(question_to_titles))):\n",
    "    example = question_to_titles[i]\n",
    "    selected_passages_ids = example[\"selected_passages_ids\"]\n",
    "    selected_passages = [deepcopy(meta_corpus[i]) for i in selected_passages_ids]\n",
    "    \n",
    "    tokenized_query = split_text(example[\"question\"])\n",
    "    bm25_scores = bm25.get_scores(tokenized_query)\n",
    "    \n",
    "    selected_bm25_scores = bm25_scores[selected_passages_ids]\n",
    "    selected_semantic_scores = semantic_scores[i][selected_passages_ids]\n",
    "    for passage in selected_passages:\n",
    "        passage[\"keyword_score\"] = get_keyword_score(passage[\"passage\"], example[\"keywords\"])\n",
    "    for passage, score in zip(selected_passages, selected_bm25_scores):\n",
    "        passage[\"bm25_score\"] = float(score)\n",
    "    for passage, score in zip(selected_passages, selected_semantic_scores):\n",
    "        passage[\"semantic_score\"] = float(score)\n",
    "    sorted_passages = rerank_3_stages(selected_passages)\n",
    "    example[\"sorted_passages\"] = sorted_passages"
   ]
  },
  {
   "cell_type": "code",
   "execution_count": 219,
   "id": "903bc7ee-555b-4154-90d0-8f67a28adee0",
   "metadata": {
    "scrolled": true
   },
   "outputs": [
    {
     "name": "stdout",
     "output_type": "stream",
     "text": [
      "Hãy liệt kê các chức vụ trong sự nghiệp chính trị của bà Nguyễn Thị Kim Ngân, nguyên chủ tich quốc hội nước Việt Nam ?\n",
      "['bà nguyễn thị kim ngân']\n"
     ]
    },
    {
     "data": {
      "text/plain": [
       "[{'title': 'Nguyễn Thị Kim Ngân',\n",
       "  'passage': 'Title: Nguyễn Thị Kim Ngân\\n\\nQuốc hội khóa 14. Chủ tịch Quốc hội. Tại Đại hội Đại biểu toàn quốc Đảng Cộng sản Việt Nam lần thứ XII, bà tiếp tục được bầu lại vào Ban Chấp hành Trung ương Đảng, được Ban Chấp hành Trung ương bầu vào Bộ Chính trị. Tại kỳ đại hội này, bà cũng được đề cử vào vị trí Chủ tịch Quốc hội. Ngày 31 tháng 3 năm 2016, Phó chủ tịch Quốc hội Nguyễn Thị Kim Ngân tuyên thệ nhậm chức Chủ tịch Quốc hội khóa XIII (2011-2016) thay ông Nguyễn Sinh Hùng. Sáng ngày 22 tháng 7 năm 2016, bà Nguyễn Thị Kim Ngân được các đại biểu Quốc hội Việt Nam khóa 14 bầu làm Chủ tịch Quốc hội Việt Nam khóa 14 với tỉ lệ 483/489 phiếu thuận (tổng 490 phiếu, 1 phiếu không hợp lệ). Trong nhiệm kì của bà, Quốc hội Việt Nam',\n",
       "  'id': 26520,\n",
       "  'len': 155,\n",
       "  'keyword_score': 1.0,\n",
       "  'bm25_score': 51.91826831648119,\n",
       "  'semantic_score': 0.690834641456604,\n",
       "  'bm25_normed_score': 0.9054914305320971,\n",
       "  'combined_score': 0.8359664637815117},\n",
       " {'title': 'Nguyễn Thị Kim Ngân',\n",
       "  'passage': 'Title: Nguyễn Thị Kim Ngân\\n\\ntán thành đạt 85,63%. Cuối cùng, chỉ có Luật An ninh mạng là được thông qua. Trong năm 2018, vụ việc 9 người bỏ trốn ở Hàn Quốc bằng chuyên cơ chở Chủ tịch Quốc hội trong chuyến thăm của bà Ngân theo lời mời của Chủ tịch Quốc hội Hàn Quốc đã gây chấn động trong nước. Về sau 9 người này được xác định là đội lốt doanh nhân, đi cùng đoàn với bà Ngân để trốn lại Hàn Quốc. Sáng ngày 11 tháng 6 năm 2020, tại kì họp thứ 9 Quốc hội Việt Nam khóa 14 đã bỏ phiếu kín bầu bà Nguyễn Thị Kim Ngân giữ chức vụ Chủ tịch Hội đồng Bầu cử Quốc gia (462/462 đại biểu tham gia biểu quyết tán thành). Miễn nhiệm. Tại Đại hội Đại biểu toàn quốc lần thứ XIII của Đảng, bà không tái cử Ủy viên',\n",
       "  'id': 26522,\n",
       "  'len': 155,\n",
       "  'keyword_score': 1.0,\n",
       "  'bm25_score': 49.06763893906474,\n",
       "  'semantic_score': 0.6282052993774414,\n",
       "  'bm25_normed_score': 0.7756965133118541,\n",
       "  'combined_score': 0.7916723010199062},\n",
       " {'title': 'Nguyễn Thị Kim Ngân',\n",
       "  'passage': 'Title: Nguyễn Thị Kim Ngân\\n\\nTrung ương Đảng khóa XIII. Chiều 15 giờ 50 phút ngày 30 tháng 3 năm 2022, Quốc hội đã phê chuẩn việc miễn nhiệm chức danh Chủ tịch Quốc hội đối với bà bằng hình thức bỏ phiếu kín với 429/449 phiếu tán thành (chiếm 89,38%), sau đó bà được nghỉ hưu theo chế độ. Sang ngày 31 tháng 3 năm 2021, Bí thư Thành ủy Hà Nội ông Vương Đình Huệ được bầu làm Chủ tịch Quốc hội khóa XIV (2016-2021) thay bà Nguyễn Thị Kim Ngân. Bà kết thúc nhiệm kỳ 5 năm với tư cách là Chủ tịch Quốc hội. Nghỉ hưu. Sau khi kết thúc nhiệm kỳ Chủ tịch Quốc hội bà nghỉ hưu. Ngày 22 tháng 11 năm 2021, bà nhận Huy hiệu 40 năm tuổi Đảng.',\n",
       "  'id': 26523,\n",
       "  'len': 137,\n",
       "  'keyword_score': 1.0,\n",
       "  'bm25_score': 33.91676771315307,\n",
       "  'semantic_score': 0.640394926071167,\n",
       "  'bm25_normed_score': 0.08584672359137076,\n",
       "  'combined_score': 0.7287821353947206},\n",
       " {'title': 'Nguyễn Thị Kim Ngân',\n",
       "  'passage': 'Title: Nguyễn Thị Kim Ngân\\n\\ntái đắc cử Ủy viên Ban Chấp hành Trung ương Đảng khóa XI, được bầu vào Ban Bí thư Trung ương Đảng. Tháng 5 năm 2013 tại Hội nghị Trung ương lần thứ 7 khóa XI, bà được bầu bổ sung vào Bộ Chính trị. Đại biểu Quốc hội Việt Nam thành phố Cần Thơ. Ngày 22 tháng 5 năm 2016, bà Nguyễn Thị Kim Ngân trúng cử đại biểu Quốc hội Việt Nam khóa 14 nhiệm kì 2016-2021 tại đơn vị bầu cử số 1 thành phố Cần Thơ gồm quận Ninh Kiều, quận Cái Răng và huyện Phong Điền với tỉ lệ 91,46% phiếu thuận cao nhất thành phố này. Ngày 4 tháng 5 năm 2018, bà có buổi tiếp xúc cử tri tại xã Mỹ Khánh (huyện Phong Điền) và phường An Bình (quận Ninh Kiều) để lấy ý kiến cử tri trước kỳ họp thứ 5,',\n",
       "  'id': 26519,\n",
       "  'len': 155,\n",
       "  'keyword_score': 1.0,\n",
       "  'bm25_score': 33.24136659113369,\n",
       "  'semantic_score': 0.5959756970405579,\n",
       "  'bm25_normed_score': 0.05509434539115199,\n",
       "  'combined_score': 0.7034972830593942},\n",
       " {'title': 'Nguyễn Thị Kim Ngân',\n",
       "  'passage': 'Title: Nguyễn Thị Kim Ngân\\n\\nNguyễn Thị Kim Ngân (sinh ngày 12 tháng 4 năm 1954) là nữ chính trị gia người Việt Nam. Bà là Chủ tịch Quốc hội thứ 11 của nước Cộng hòa Xã hội chủ nghĩa Việt Nam, Chủ tịch Hội đồng bầu cử Quốc gia Việt Nam. Bà là nữ chính khách đầu tiên trong lịch sử Việt Nam giữ các chức vụ này. Bà còn là đại biểu quốc hội Việt Nam khóa XIV (2016-2021) thuộc đoàn đại biểu quốc hội thành phố Cần Thơ. Bà từng là Phó Chủ tịch Quốc hội (2011-2016), Bộ trưởng Bộ Lao động - Thương binh và Xã hội (2007-2011), Thứ trưởng thường trực Bộ Thương mại (sau này là Bộ Công Thương), Bí thư Tỉnh ủy Hải Dương (2002-2006), Thứ trưởng Bộ Tài chính, Giám đốc Sở Tài chính tỉnh Bến Tre (1991-1998). Trong Đảng Cộng sản Việt Nam, bà từng là',\n",
       "  'id': 26513,\n",
       "  'len': 155,\n",
       "  'keyword_score': 0.0,\n",
       "  'bm25_score': 53.99391896839123,\n",
       "  'semantic_score': 0.780764102935791,\n",
       "  'bm25_normed_score': 1.0,\n",
       "  'combined_score': 0.4903820514678955}]"
      ]
     },
     "execution_count": 219,
     "metadata": {},
     "output_type": "execute_result"
    }
   ],
   "source": [
    "example = question_to_titles[34]\n",
    "print(example[\"question\"])\n",
    "print(example[\"keywords\"])\n",
    "example[\"sorted_passages\"]"
   ]
  },
  {
   "cell_type": "markdown",
   "id": "2707c93f-7d19-45e4-ac9c-8da04ac9b8c9",
   "metadata": {},
   "source": [
    "## Step 4"
   ]
  },
  {
   "cell_type": "code",
   "execution_count": 265,
   "id": "812ba3be-13b3-40ac-a259-ff3b7b9f3888",
   "metadata": {},
   "outputs": [],
   "source": [
    "def expand_context(passage, word_window=40):\n",
    "    psg_id = passage[\"id\"]\n",
    "    title = passage[\"title\"]\n",
    "    prev_id = psg_id - 1\n",
    "    next_id = psg_id + 1\n",
    "    strip_title = lambda x: x[\"passage\"].strip(f\"Title: {x['title']}\\n\\n\")\n",
    "    \n",
    "    texts = []\n",
    "    if prev_id in range(0, len(meta_corpus)):\n",
    "        prev_psg = meta_corpus[prev_id]\n",
    "        if prev_psg[\"title\"] == title: \n",
    "            prev_text = strip_title(prev_psg)\n",
    "            prev_text = \" \".join(prev_text.split()[-word_window:])\n",
    "            texts.append(prev_text)\n",
    "            \n",
    "    texts.append(strip_title(passage))\n",
    "    \n",
    "    if next_id in range(0, len(meta_corpus)):\n",
    "        next_psg = meta_corpus[next_id]\n",
    "        if next_psg[\"title\"] == title: \n",
    "            next_text = strip_title(next_psg)\n",
    "            next_text = \" \".join(next_text.split()[:word_window])\n",
    "            texts.append(next_text)\n",
    "\n",
    "    expanded_text = \" \".join(texts)\n",
    "    expanded_text = f\"Title: {title}\\n{expanded_text}\"\n",
    "    return expanded_text\n",
    "    "
   ]
  },
  {
   "cell_type": "code",
   "execution_count": 271,
   "id": "b2f6e6db-50c7-4835-ba91-ce904beee51e",
   "metadata": {},
   "outputs": [
    {
     "name": "stderr",
     "output_type": "stream",
     "text": [
      "100%|████████████████████████████████████████████████████████████████████████████████████████████████████| 200/200 [00:00<00:00, 8898.11it/s]\n"
     ]
    }
   ],
   "source": [
    "for example in tqdm(question_to_titles):\n",
    "    sorted_passages = example[\"sorted_passages\"]\n",
    "    expanses = [expand_context(p) for p in sorted_passages]\n",
    "    context = \"\\n\".join([f\"Context [{i+1}] : {expanded}\" \n",
    "                         for i, expanded in enumerate(expanses[:3])])\n",
    "    example[\"full_context\"] = context"
   ]
  },
  {
   "cell_type": "markdown",
   "id": "f77cce0f-7a17-4193-b1d2-8b4dc75c375a",
   "metadata": {},
   "source": [
    "## Step 5. Genrerate prompt"
   ]
  },
  {
   "cell_type": "code",
   "execution_count": 275,
   "id": "e4c048f3-0169-4f89-a16a-26d039e8f3bb",
   "metadata": {},
   "outputs": [],
   "source": [
    "import unicodedata as ud\n",
    "from enum import Enum\n",
    "from typing import Generator, Optional, Union\n",
    "class PromptStyle(Enum):\n",
    "    \"\"\"\n",
    "    Enum for prompt styles\n",
    "    \"\"\"\n",
    "\n",
    "    INSTRUCT = \"instruct\"\n",
    "    CHAT = \"chat\"\n",
    "    CHATML = \"chatml\"\n",
    "\n",
    "class AlpacaPrompter:\n",
    "    \"\"\"\n",
    "    Base class for alpaca prompters\n",
    "    \"\"\"\n",
    "\n",
    "    system_prompt = \"Below is an instruction that describes a task, paired with an input that provides further context. Write a response that appropriately completes the request.\\n\\n\"\n",
    "    system_no_input_prompt = \"Below is an instruction that describes a task. Write a response that appropriately completes the request.\\n\\n\"\n",
    "    system_format: str = \"{system}\"\n",
    "    turn_format: str\n",
    "    turn_no_input_format: str\n",
    "    prompt_style: Optional[PromptStyle] = None\n",
    "\n",
    "    def __init__(self, prompt_style=PromptStyle.INSTRUCT.value):\n",
    "        self.prompt_style = prompt_style if prompt_style else PromptStyle.INSTRUCT.value\n",
    "        self.match_prompt_style()\n",
    "\n",
    "    def match_prompt_style(self):\n",
    "        # pylint: disable=duplicate-code\n",
    "        if self.prompt_style == PromptStyle.INSTRUCT.value:\n",
    "            self.turn_format = \"### Instruction:\\n{instruction}\\n\\n### Input:\\n{input}\\n\\n### Response:\\n\"\n",
    "            self.turn_no_input_format = (\n",
    "                \"### Instruction:\\n{instruction}\\n\\n### Response:\\n\"\n",
    "            )\n",
    "            self.system_format = \"### System:\\n{system}\\n\\n\"\n",
    "        if self.prompt_style == PromptStyle.CHAT.value:\n",
    "            self.turn_format = \"USER: {instruction}\\n{input}\\nASSISTANT:\"\n",
    "            self.turn_no_input_format = \"USER: {instruction}\\nASSISTANT:\"\n",
    "            self.system_format = \"SYSTEM: {system}\\n\"\n",
    "        if self.prompt_style == PromptStyle.CHATML.value:\n",
    "            self.turn_format = \"<|im_start|>user\\n{instruction}\\n{input}<|im_end|>\\n<|im_start|>assistant\\n\"\n",
    "            self.turn_no_input_format = (\n",
    "                \"<|im_start|>user\\n{instruction}<|im_end|>\\n<|im_start|>assistant\\n\"\n",
    "            )\n",
    "            self.system_format = \"<|im_start|>system\\n{system}<|im_end|>\\n\"\n",
    "\n",
    "    def build_prompt(\n",
    "        self,\n",
    "        instruction: str,\n",
    "        input: Union[None, str] = None,  # pylint: disable=redefined-builtin\n",
    "        output: Union[None, str] = None,\n",
    "    ) -> Generator[str, None, None]:\n",
    "        # returns the full prompt from instruction and optional input\n",
    "        # if a label (=response, =output) is provided, it's also appended.\n",
    "        if input:\n",
    "            res = (\n",
    "                self.system_format.format(system=self.system_prompt)\n",
    "                if self.system_prompt\n",
    "                else \"\"\n",
    "            ) + self.turn_format.format(instruction=instruction, input=input)\n",
    "        else:\n",
    "            res = (\n",
    "                self.system_format.format(system=self.system_no_input_prompt)\n",
    "                if self.system_prompt\n",
    "                else \"\"\n",
    "            ) + self.turn_no_input_format.format(instruction=instruction)\n",
    "        if output:\n",
    "            res = f\"{res}{output}\"\n",
    "        yield res\n",
    "prompter = AlpacaPrompter(prompt_style=PromptStyle.INSTRUCT.value)\n",
    "def gen_prompt(question, context):\n",
    "    question = ud.normalize(\"NFC\", question)\n",
    "    context = ud.normalize(\"NFC\", context)\n",
    "    instruction = 'As an intelligent AI model, your task is to analyze and integrate information from multiple contexts given below in order to answer questions and provide citations. Only use the information provided in the context to select the most relevant sentences to the question.'  \n",
    "    input = f\"Provide answer to the question at the end based on the following retrieved contexts, don't give false information and filter some unnecessary information.\\n{context}\\nQuestion: {question}\\nAnswer:\"\n",
    "    prompt = prompter.build_prompt(instruction=instruction, input=input, output=\"\").__next__()\n",
    "    return prompt"
   ]
  },
  {
   "cell_type": "code",
   "execution_count": 277,
   "id": "e90fb967-e1f2-4c6a-9fb8-95069dd81636",
   "metadata": {},
   "outputs": [
    {
     "name": "stderr",
     "output_type": "stream",
     "text": [
      "100%|███████████████████████████████████████████████████████████████████████████████████████████████████| 200/200 [00:00<00:00, 18523.21it/s]\n"
     ]
    }
   ],
   "source": [
    "## Generate and save prompts\n",
    "import json\n",
    "from tqdm import tqdm\n",
    "from copy import deepcopy\n",
    "with open(\"data/prompts_v2.jsonl\", \"w\") as file:\n",
    "    for example in tqdm(question_to_titles):\n",
    "        question = example.get(\"question\")\n",
    "        context = example.get(\"full_context\")\n",
    "        prompt = gen_prompt(question, context)\n",
    "        file.write(json.dumps({\"prompt\": prompt}, ensure_ascii=False) + \"\\n\")\n",
    "        # print(question)\n",
    "        # answer = get_answer(prompt, max_new_tokens=1024)\n",
    "        # example[\"answer\"] = answer\n",
    "        # print(\"---\" * 30)"
   ]
  }
 ],
 "metadata": {
  "kernelspec": {
   "display_name": "Python 3 (ipykernel)",
   "language": "python",
   "name": "python3"
  },
  "language_info": {
   "codemirror_mode": {
    "name": "ipython",
    "version": 3
   },
   "file_extension": ".py",
   "mimetype": "text/x-python",
   "name": "python",
   "nbconvert_exporter": "python",
   "pygments_lexer": "ipython3",
   "version": "3.8.10"
  }
 },
 "nbformat": 4,
 "nbformat_minor": 5
}
